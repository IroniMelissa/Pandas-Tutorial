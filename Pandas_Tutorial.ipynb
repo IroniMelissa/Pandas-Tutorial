{
  "nbformat": 4,
  "nbformat_minor": 0,
  "metadata": {
    "colab": {
      "provenance": []
    },
    "kernelspec": {
      "name": "python3",
      "display_name": "Python 3"
    },
    "language_info": {
      "name": "python"
    }
  },
  "cells": [
    {
      "cell_type": "markdown",
      "source": [
        "## **Pandas Tutorial**"
      ],
      "metadata": {
        "id": "5KqN8HokV7UB"
      }
    },
    {
      "cell_type": "markdown",
      "source": [
        "Pandas is a python library use for data manipulation and data analyzing.\n",
        "\n",
        "### Python Features\n",
        "\n",
        "\n",
        "\n",
        "1.   Powerful data structures(Series, dataframes)\n",
        "2.   Fast & efficient data wrangling\n",
        "3.   Easy data aggregation  & transformation\n",
        "4.   Tools for reading & writing data\n",
        "5.   Intelligent & automated data alignment\n",
        "6.   High performance merging & joining of data sets\n",
        "\n",
        "\n",
        "### Data Structures\n",
        "\n",
        "\n",
        "\n",
        "\n",
        "1.   Series(one-dimensional labeled array)\n",
        "2.   Data Frames(two -dimensional labeled array)\n",
        "3.   Panel (three-dimesnioanl labeled array)\n",
        "4.   Panel 4D(Experimental)\n",
        "\n",
        "\n",
        "\n",
        "### File Read & Write support\n",
        "\n",
        "\n",
        "\n",
        "1.   read_csv , to_csv\n",
        "2.   read_json, to_json\n",
        "3.   read_excel , to_excel\n",
        "4.   read_sql , to_sql\n",
        "5.   read_sas , to_sas\n",
        "6.   read_html , to_html\n",
        "7.   read_clipboard , to_clipboard\n",
        "8.   read_pickle , to_pickle\n",
        "9.   read_stata , to_stata\n",
        "10.  read_hdf , to_hdf\n",
        "\n",
        "\n",
        "\n",
        "\n",
        "\n",
        "\n",
        "\n"
      ],
      "metadata": {
        "id": "B3h5gUkeXeOp"
      }
    },
    {
      "cell_type": "markdown",
      "source": [
        "\n",
        "## **Series**\n",
        "one- dimensional array like object containing data and labels(index)\n",
        "\n",
        "\n",
        "![Screenshot 2022-12-12 191821.jpg](data:image/jpeg;base64,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)"
      ],
      "metadata": {
        "id": "z8ku1ZM6C3NT"
      }
    },
    {
      "cell_type": "markdown",
      "source": [
        "Data inputs & data types of series can be follows as below.\n",
        "\n",
        "\n",
        "\n",
        "1.   ndarray\n",
        "2.   dict\n",
        "3.   scalar\n",
        "4.   list\n",
        " \n",
        "\n",
        "1. integer\n",
        "2. string\n",
        "3. python object\n",
        "4. float\n"
      ],
      "metadata": {
        "id": "kUKW82jhmPUn"
      }
    },
    {
      "cell_type": "markdown",
      "source": [
        "### Create  a series from a list"
      ],
      "metadata": {
        "id": "f6gDtH3uqi6n"
      }
    },
    {
      "cell_type": "code",
      "execution_count": 2,
      "metadata": {
        "id": "4XKBOpPRV2Gr",
        "colab": {
          "base_uri": "https://localhost:8080/"
        },
        "outputId": "6409ca31-21d1-4e35-9bca-ece23b04c09d"
      },
      "outputs": [
        {
          "output_type": "stream",
          "name": "stdout",
          "text": [
            "0    a\n",
            "1    b\n",
            "2    c\n",
            "3    d\n",
            "4    e\n",
            "5    f\n",
            "dtype: object\n"
          ]
        }
      ],
      "source": [
        "import pandas as pd\n",
        "import numpy as np\n",
        "\n",
        "f_series = pd.Series(list('abcdef'))\n",
        "print(f_series)"
      ]
    },
    {
      "cell_type": "markdown",
      "source": [
        "### Create series from ndarray"
      ],
      "metadata": {
        "id": "WJZls3iYrUCC"
      }
    },
    {
      "cell_type": "code",
      "source": [
        "np_country = np.array(['USA','Japan','Iceland','Sweden','Singapore'])\n",
        "s_country = pd.Series(np_country)\n",
        "print(s_country)"
      ],
      "metadata": {
        "colab": {
          "base_uri": "https://localhost:8080/"
        },
        "id": "mgfiurQHrYLM",
        "outputId": "4abaf70c-d6dc-46e7-af7d-3b50be8fefa9"
      },
      "execution_count": 3,
      "outputs": [
        {
          "output_type": "stream",
          "name": "stdout",
          "text": [
            "0          USA\n",
            "1        Japan\n",
            "2      Iceland\n",
            "3       Sweden\n",
            "4    Singapore\n",
            "dtype: object\n"
          ]
        }
      ]
    },
    {
      "cell_type": "markdown",
      "source": [
        "\n",
        "### Create series from a dictionary\n",
        "\n"
      ],
      "metadata": {
        "id": "KJS3qdNAsxpU"
      }
    },
    {
      "cell_type": "code",
      "source": [
        "cgdp_dict = pd.Series([90.89,77,54,82,22],index =[\"USA\",\"UK\",\"UAE\",\"Japan\",\"SL\"])\n",
        "print(cgdp_dict)"
      ],
      "metadata": {
        "colab": {
          "base_uri": "https://localhost:8080/"
        },
        "id": "-7eIkflcsxKV",
        "outputId": "6b70adb4-acfb-4bb9-ea59-9f865461f2eb"
      },
      "execution_count": 4,
      "outputs": [
        {
          "output_type": "stream",
          "name": "stdout",
          "text": [
            "USA      90.89\n",
            "UK       77.00\n",
            "UAE      54.00\n",
            "Japan    82.00\n",
            "SL       22.00\n",
            "dtype: float64\n"
          ]
        }
      ]
    },
    {
      "cell_type": "markdown",
      "source": [
        "### Create series from Scalar"
      ],
      "metadata": {
        "id": "Jw_HolW7aqQy"
      }
    },
    {
      "cell_type": "code",
      "source": [
        "scalar_ser = pd.Series(5.,index=[\"a\",\"b\",\"c\"])\n",
        "print(scalar_ser)"
      ],
      "metadata": {
        "colab": {
          "base_uri": "https://localhost:8080/"
        },
        "id": "b7rbfCB3auvY",
        "outputId": "ef8f3404-bd31-490e-9dea-3c3da687e5a3"
      },
      "execution_count": 5,
      "outputs": [
        {
          "output_type": "stream",
          "name": "stdout",
          "text": [
            "a    5.0\n",
            "b    5.0\n",
            "c    5.0\n",
            "dtype: float64\n"
          ]
        }
      ]
    },
    {
      "cell_type": "markdown",
      "source": [
        "### Accessing elements in Series"
      ],
      "metadata": {
        "id": "5b0ZfXStkgNo"
      }
    },
    {
      "cell_type": "code",
      "source": [
        "print(s_country[0])\n",
        "\n",
        "print(s_country[0:4])\n",
        "\n",
        "\n",
        "print(cgdp_dict.loc[\"UAE\"])#using index\n",
        "\n",
        "\n",
        "print(cgdp_dict.iloc[3])\n"
      ],
      "metadata": {
        "colab": {
          "base_uri": "https://localhost:8080/"
        },
        "id": "aFV-fnoRklMn",
        "outputId": "9e74a5ee-837b-4e5d-aa6b-f7814f5714ae"
      },
      "execution_count": 6,
      "outputs": [
        {
          "output_type": "stream",
          "name": "stdout",
          "text": [
            "USA\n",
            "0        USA\n",
            "1      Japan\n",
            "2    Iceland\n",
            "3     Sweden\n",
            "dtype: object\n",
            "54.0\n",
            "82.0\n"
          ]
        }
      ]
    },
    {
      "cell_type": "markdown",
      "source": [
        "### Vectorized operations in series"
      ],
      "metadata": {
        "id": "fQ7ewm70tfkK"
      }
    },
    {
      "cell_type": "code",
      "source": [
        "fvec_ser = pd.Series([1,2,3,4], index = ['a','b','c', 'd'])\n",
        "secvec_ser = pd.Series([10,20,30,40], index = ['a','b','c', 'd'])\n",
        "fvec_ser + secvec_ser \n"
      ],
      "metadata": {
        "colab": {
          "base_uri": "https://localhost:8080/"
        },
        "id": "qAmasZhQtlFJ",
        "outputId": "71d6ee31-794e-40b6-a1da-0674f6fbc700"
      },
      "execution_count": 7,
      "outputs": [
        {
          "output_type": "execute_result",
          "data": {
            "text/plain": [
              "a    11\n",
              "b    22\n",
              "c    33\n",
              "d    44\n",
              "dtype: int64"
            ]
          },
          "metadata": {},
          "execution_count": 7
        }
      ]
    },
    {
      "cell_type": "markdown",
      "source": [
        "## **DataFrames**"
      ],
      "metadata": {
        "id": "VkO3HCGf8gJG"
      }
    },
    {
      "cell_type": "markdown",
      "source": [
        "DataFrame is a two dimensional labeled data structure with columns with potentially different data types."
      ],
      "metadata": {
        "id": "_pkvS3cmjuST"
      }
    },
    {
      "cell_type": "markdown",
      "source": [
        "Data inputs & data types , dataframes can be follows as below.\n",
        "\n",
        "\n",
        "\n",
        "1.   ndarray\n",
        "2.   dict\n",
        "3.   series\n",
        "4.   list\n",
        "5.   dataframe\n",
        " \n",
        "\n",
        "1. integer\n",
        "2. string\n",
        "3. python object\n",
        "4. float\n"
      ],
      "metadata": {
        "id": "tpE8FWPH8OIx"
      }
    },
    {
      "cell_type": "markdown",
      "source": [
        "### Create dataframe from lists"
      ],
      "metadata": {
        "id": "n6B5gITG9B5l"
      }
    },
    {
      "cell_type": "code",
      "source": [
        "data_set = {'hostcity' :['London','Beijing', 'Athena','Sydney','Atlanta'],\n",
        "            'year': [2012,2008,2004,2000,2005],\n",
        "            'particpants':[205,204,201,200,197]}\n",
        "\n",
        "df_dataset = pd.DataFrame(data_set)\n",
        "\n",
        "df_dataset"
      ],
      "metadata": {
        "id": "iUlHXmVd8jaF",
        "colab": {
          "base_uri": "https://localhost:8080/",
          "height": 206
        },
        "outputId": "c9bb45e5-c049-4745-aedb-7c2f3b14ccaa"
      },
      "execution_count": 8,
      "outputs": [
        {
          "output_type": "execute_result",
          "data": {
            "text/plain": [
              "  hostcity  year  particpants\n",
              "0   London  2012          205\n",
              "1  Beijing  2008          204\n",
              "2   Athena  2004          201\n",
              "3   Sydney  2000          200\n",
              "4  Atlanta  2005          197"
            ],
            "text/html": [
              "\n",
              "  <div id=\"df-08f79475-988e-4d3c-8441-3e86223d750f\">\n",
              "    <div class=\"colab-df-container\">\n",
              "      <div>\n",
              "<style scoped>\n",
              "    .dataframe tbody tr th:only-of-type {\n",
              "        vertical-align: middle;\n",
              "    }\n",
              "\n",
              "    .dataframe tbody tr th {\n",
              "        vertical-align: top;\n",
              "    }\n",
              "\n",
              "    .dataframe thead th {\n",
              "        text-align: right;\n",
              "    }\n",
              "</style>\n",
              "<table border=\"1\" class=\"dataframe\">\n",
              "  <thead>\n",
              "    <tr style=\"text-align: right;\">\n",
              "      <th></th>\n",
              "      <th>hostcity</th>\n",
              "      <th>year</th>\n",
              "      <th>particpants</th>\n",
              "    </tr>\n",
              "  </thead>\n",
              "  <tbody>\n",
              "    <tr>\n",
              "      <th>0</th>\n",
              "      <td>London</td>\n",
              "      <td>2012</td>\n",
              "      <td>205</td>\n",
              "    </tr>\n",
              "    <tr>\n",
              "      <th>1</th>\n",
              "      <td>Beijing</td>\n",
              "      <td>2008</td>\n",
              "      <td>204</td>\n",
              "    </tr>\n",
              "    <tr>\n",
              "      <th>2</th>\n",
              "      <td>Athena</td>\n",
              "      <td>2004</td>\n",
              "      <td>201</td>\n",
              "    </tr>\n",
              "    <tr>\n",
              "      <th>3</th>\n",
              "      <td>Sydney</td>\n",
              "      <td>2000</td>\n",
              "      <td>200</td>\n",
              "    </tr>\n",
              "    <tr>\n",
              "      <th>4</th>\n",
              "      <td>Atlanta</td>\n",
              "      <td>2005</td>\n",
              "      <td>197</td>\n",
              "    </tr>\n",
              "  </tbody>\n",
              "</table>\n",
              "</div>\n",
              "      <button class=\"colab-df-convert\" onclick=\"convertToInteractive('df-08f79475-988e-4d3c-8441-3e86223d750f')\"\n",
              "              title=\"Convert this dataframe to an interactive table.\"\n",
              "              style=\"display:none;\">\n",
              "        \n",
              "  <svg xmlns=\"http://www.w3.org/2000/svg\" height=\"24px\"viewBox=\"0 0 24 24\"\n",
              "       width=\"24px\">\n",
              "    <path d=\"M0 0h24v24H0V0z\" fill=\"none\"/>\n",
              "    <path d=\"M18.56 5.44l.94 2.06.94-2.06 2.06-.94-2.06-.94-.94-2.06-.94 2.06-2.06.94zm-11 1L8.5 8.5l.94-2.06 2.06-.94-2.06-.94L8.5 2.5l-.94 2.06-2.06.94zm10 10l.94 2.06.94-2.06 2.06-.94-2.06-.94-.94-2.06-.94 2.06-2.06.94z\"/><path d=\"M17.41 7.96l-1.37-1.37c-.4-.4-.92-.59-1.43-.59-.52 0-1.04.2-1.43.59L10.3 9.45l-7.72 7.72c-.78.78-.78 2.05 0 2.83L4 21.41c.39.39.9.59 1.41.59.51 0 1.02-.2 1.41-.59l7.78-7.78 2.81-2.81c.8-.78.8-2.07 0-2.86zM5.41 20L4 18.59l7.72-7.72 1.47 1.35L5.41 20z\"/>\n",
              "  </svg>\n",
              "      </button>\n",
              "      \n",
              "  <style>\n",
              "    .colab-df-container {\n",
              "      display:flex;\n",
              "      flex-wrap:wrap;\n",
              "      gap: 12px;\n",
              "    }\n",
              "\n",
              "    .colab-df-convert {\n",
              "      background-color: #E8F0FE;\n",
              "      border: none;\n",
              "      border-radius: 50%;\n",
              "      cursor: pointer;\n",
              "      display: none;\n",
              "      fill: #1967D2;\n",
              "      height: 32px;\n",
              "      padding: 0 0 0 0;\n",
              "      width: 32px;\n",
              "    }\n",
              "\n",
              "    .colab-df-convert:hover {\n",
              "      background-color: #E2EBFA;\n",
              "      box-shadow: 0px 1px 2px rgba(60, 64, 67, 0.3), 0px 1px 3px 1px rgba(60, 64, 67, 0.15);\n",
              "      fill: #174EA6;\n",
              "    }\n",
              "\n",
              "    [theme=dark] .colab-df-convert {\n",
              "      background-color: #3B4455;\n",
              "      fill: #D2E3FC;\n",
              "    }\n",
              "\n",
              "    [theme=dark] .colab-df-convert:hover {\n",
              "      background-color: #434B5C;\n",
              "      box-shadow: 0px 1px 3px 1px rgba(0, 0, 0, 0.15);\n",
              "      filter: drop-shadow(0px 1px 2px rgba(0, 0, 0, 0.3));\n",
              "      fill: #FFFFFF;\n",
              "    }\n",
              "  </style>\n",
              "\n",
              "      <script>\n",
              "        const buttonEl =\n",
              "          document.querySelector('#df-08f79475-988e-4d3c-8441-3e86223d750f button.colab-df-convert');\n",
              "        buttonEl.style.display =\n",
              "          google.colab.kernel.accessAllowed ? 'block' : 'none';\n",
              "\n",
              "        async function convertToInteractive(key) {\n",
              "          const element = document.querySelector('#df-08f79475-988e-4d3c-8441-3e86223d750f');\n",
              "          const dataTable =\n",
              "            await google.colab.kernel.invokeFunction('convertToInteractive',\n",
              "                                                     [key], {});\n",
              "          if (!dataTable) return;\n",
              "\n",
              "          const docLinkHtml = 'Like what you see? Visit the ' +\n",
              "            '<a target=\"_blank\" href=https://colab.research.google.com/notebooks/data_table.ipynb>data table notebook</a>'\n",
              "            + ' to learn more about interactive tables.';\n",
              "          element.innerHTML = '';\n",
              "          dataTable['output_type'] = 'display_data';\n",
              "          await google.colab.output.renderOutput(dataTable, element);\n",
              "          const docLink = document.createElement('div');\n",
              "          docLink.innerHTML = docLinkHtml;\n",
              "          element.appendChild(docLink);\n",
              "        }\n",
              "      </script>\n",
              "    </div>\n",
              "  </div>\n",
              "  "
            ]
          },
          "metadata": {},
          "execution_count": 8
        }
      ]
    },
    {
      "cell_type": "markdown",
      "source": [
        "### Create dataframe from dicts"
      ],
      "metadata": {
        "id": "gEd7QaahFg9Q"
      }
    },
    {
      "cell_type": "code",
      "source": [
        "dict_data = {'London' : {2012:205},'Beijing': {2008,204}}\n",
        "df_dict_data = pd.DataFrame(dict_data)\n",
        "df_dict_data"
      ],
      "metadata": {
        "id": "IyktbtaiFoJB"
      },
      "execution_count": null,
      "outputs": []
    },
    {
      "cell_type": "markdown",
      "source": [
        "***view dataframe***"
      ],
      "metadata": {
        "id": "GYxqWngOI26U"
      }
    },
    {
      "cell_type": "code",
      "source": [
        "#select by column name\n",
        "df_dataset.year"
      ],
      "metadata": {
        "colab": {
          "base_uri": "https://localhost:8080/"
        },
        "id": "yHgY17f8MaLd",
        "outputId": "2aa35f33-d3b3-4d9d-c045-ae844f92c4a7"
      },
      "execution_count": 12,
      "outputs": [
        {
          "output_type": "execute_result",
          "data": {
            "text/plain": [
              "0    2012\n",
              "1    2008\n",
              "2    2004\n",
              "3    2000\n",
              "4    2005\n",
              "Name: year, dtype: int64"
            ]
          },
          "metadata": {},
          "execution_count": 12
        }
      ]
    },
    {
      "cell_type": "code",
      "source": [
        "#using describe function to display the content\n",
        "df_dataset.describe"
      ],
      "metadata": {
        "colab": {
          "base_uri": "https://localhost:8080/"
        },
        "id": "ib6wkeGqMjkZ",
        "outputId": "dcbca670-6c5c-40fd-9752-8e11276da8eb"
      },
      "execution_count": 13,
      "outputs": [
        {
          "output_type": "execute_result",
          "data": {
            "text/plain": [
              "<bound method NDFrame.describe of   hostcity  year  particpants\n",
              "0   London  2012          205\n",
              "1  Beijing  2008          204\n",
              "2   Athena  2004          201\n",
              "3   Sydney  2000          200\n",
              "4  Atlanta  2005          197>"
            ]
          },
          "metadata": {},
          "execution_count": 13
        }
      ]
    },
    {
      "cell_type": "markdown",
      "source": [
        "### Create dataframe from dict of Series"
      ],
      "metadata": {
        "id": "7UKuIRaFNVod"
      }
    },
    {
      "cell_type": "code",
      "source": [
        "series_one = pd.Series([205,204,201,200,197],index=[2012,2008,2004,2000,1996])\n",
        "series_two = pd.Series(['London','Beijing','Athens','Sydney','Atlanta'],index=[2012,2008,2004,2000,1996])\n",
        "\n",
        "df_data_series = pd.DataFrame({'No of participating countries' : series_two,\n",
        "                               'Host cities': series_one})\n",
        "\n",
        "df_data_series"
      ],
      "metadata": {
        "colab": {
          "base_uri": "https://localhost:8080/",
          "height": 206
        },
        "id": "i8I-jMp7Nb_M",
        "outputId": "154381cc-17da-40bd-c46e-d23f3913236a"
      },
      "execution_count": 19,
      "outputs": [
        {
          "output_type": "execute_result",
          "data": {
            "text/plain": [
              "     No of participating countries  Host cities\n",
              "2012                        London          205\n",
              "2008                       Beijing          204\n",
              "2004                        Athens          201\n",
              "2000                        Sydney          200\n",
              "1996                       Atlanta          197"
            ],
            "text/html": [
              "\n",
              "  <div id=\"df-72792d48-8031-4296-9284-94b2f0e331be\">\n",
              "    <div class=\"colab-df-container\">\n",
              "      <div>\n",
              "<style scoped>\n",
              "    .dataframe tbody tr th:only-of-type {\n",
              "        vertical-align: middle;\n",
              "    }\n",
              "\n",
              "    .dataframe tbody tr th {\n",
              "        vertical-align: top;\n",
              "    }\n",
              "\n",
              "    .dataframe thead th {\n",
              "        text-align: right;\n",
              "    }\n",
              "</style>\n",
              "<table border=\"1\" class=\"dataframe\">\n",
              "  <thead>\n",
              "    <tr style=\"text-align: right;\">\n",
              "      <th></th>\n",
              "      <th>No of participating countries</th>\n",
              "      <th>Host cities</th>\n",
              "    </tr>\n",
              "  </thead>\n",
              "  <tbody>\n",
              "    <tr>\n",
              "      <th>2012</th>\n",
              "      <td>London</td>\n",
              "      <td>205</td>\n",
              "    </tr>\n",
              "    <tr>\n",
              "      <th>2008</th>\n",
              "      <td>Beijing</td>\n",
              "      <td>204</td>\n",
              "    </tr>\n",
              "    <tr>\n",
              "      <th>2004</th>\n",
              "      <td>Athens</td>\n",
              "      <td>201</td>\n",
              "    </tr>\n",
              "    <tr>\n",
              "      <th>2000</th>\n",
              "      <td>Sydney</td>\n",
              "      <td>200</td>\n",
              "    </tr>\n",
              "    <tr>\n",
              "      <th>1996</th>\n",
              "      <td>Atlanta</td>\n",
              "      <td>197</td>\n",
              "    </tr>\n",
              "  </tbody>\n",
              "</table>\n",
              "</div>\n",
              "      <button class=\"colab-df-convert\" onclick=\"convertToInteractive('df-72792d48-8031-4296-9284-94b2f0e331be')\"\n",
              "              title=\"Convert this dataframe to an interactive table.\"\n",
              "              style=\"display:none;\">\n",
              "        \n",
              "  <svg xmlns=\"http://www.w3.org/2000/svg\" height=\"24px\"viewBox=\"0 0 24 24\"\n",
              "       width=\"24px\">\n",
              "    <path d=\"M0 0h24v24H0V0z\" fill=\"none\"/>\n",
              "    <path d=\"M18.56 5.44l.94 2.06.94-2.06 2.06-.94-2.06-.94-.94-2.06-.94 2.06-2.06.94zm-11 1L8.5 8.5l.94-2.06 2.06-.94-2.06-.94L8.5 2.5l-.94 2.06-2.06.94zm10 10l.94 2.06.94-2.06 2.06-.94-2.06-.94-.94-2.06-.94 2.06-2.06.94z\"/><path d=\"M17.41 7.96l-1.37-1.37c-.4-.4-.92-.59-1.43-.59-.52 0-1.04.2-1.43.59L10.3 9.45l-7.72 7.72c-.78.78-.78 2.05 0 2.83L4 21.41c.39.39.9.59 1.41.59.51 0 1.02-.2 1.41-.59l7.78-7.78 2.81-2.81c.8-.78.8-2.07 0-2.86zM5.41 20L4 18.59l7.72-7.72 1.47 1.35L5.41 20z\"/>\n",
              "  </svg>\n",
              "      </button>\n",
              "      \n",
              "  <style>\n",
              "    .colab-df-container {\n",
              "      display:flex;\n",
              "      flex-wrap:wrap;\n",
              "      gap: 12px;\n",
              "    }\n",
              "\n",
              "    .colab-df-convert {\n",
              "      background-color: #E8F0FE;\n",
              "      border: none;\n",
              "      border-radius: 50%;\n",
              "      cursor: pointer;\n",
              "      display: none;\n",
              "      fill: #1967D2;\n",
              "      height: 32px;\n",
              "      padding: 0 0 0 0;\n",
              "      width: 32px;\n",
              "    }\n",
              "\n",
              "    .colab-df-convert:hover {\n",
              "      background-color: #E2EBFA;\n",
              "      box-shadow: 0px 1px 2px rgba(60, 64, 67, 0.3), 0px 1px 3px 1px rgba(60, 64, 67, 0.15);\n",
              "      fill: #174EA6;\n",
              "    }\n",
              "\n",
              "    [theme=dark] .colab-df-convert {\n",
              "      background-color: #3B4455;\n",
              "      fill: #D2E3FC;\n",
              "    }\n",
              "\n",
              "    [theme=dark] .colab-df-convert:hover {\n",
              "      background-color: #434B5C;\n",
              "      box-shadow: 0px 1px 3px 1px rgba(0, 0, 0, 0.15);\n",
              "      filter: drop-shadow(0px 1px 2px rgba(0, 0, 0, 0.3));\n",
              "      fill: #FFFFFF;\n",
              "    }\n",
              "  </style>\n",
              "\n",
              "      <script>\n",
              "        const buttonEl =\n",
              "          document.querySelector('#df-72792d48-8031-4296-9284-94b2f0e331be button.colab-df-convert');\n",
              "        buttonEl.style.display =\n",
              "          google.colab.kernel.accessAllowed ? 'block' : 'none';\n",
              "\n",
              "        async function convertToInteractive(key) {\n",
              "          const element = document.querySelector('#df-72792d48-8031-4296-9284-94b2f0e331be');\n",
              "          const dataTable =\n",
              "            await google.colab.kernel.invokeFunction('convertToInteractive',\n",
              "                                                     [key], {});\n",
              "          if (!dataTable) return;\n",
              "\n",
              "          const docLinkHtml = 'Like what you see? Visit the ' +\n",
              "            '<a target=\"_blank\" href=https://colab.research.google.com/notebooks/data_table.ipynb>data table notebook</a>'\n",
              "            + ' to learn more about interactive tables.';\n",
              "          element.innerHTML = '';\n",
              "          dataTable['output_type'] = 'display_data';\n",
              "          await google.colab.output.renderOutput(dataTable, element);\n",
              "          const docLink = document.createElement('div');\n",
              "          docLink.innerHTML = docLinkHtml;\n",
              "          element.appendChild(docLink);\n",
              "        }\n",
              "      </script>\n",
              "    </div>\n",
              "  </div>\n",
              "  "
            ]
          },
          "metadata": {},
          "execution_count": 19
        }
      ]
    },
    {
      "cell_type": "markdown",
      "source": [
        "### Create DataFrame from ndarray"
      ],
      "metadata": {
        "id": "1ko_3B9EjTmD"
      }
    },
    {
      "cell_type": "code",
      "source": [
        "import numpy as np\n",
        "np_array = np.array([2000,2001,2002,2003])\n",
        "df_ndarray = pd.DataFrame(np_array)\n",
        "df_ndarray"
      ],
      "metadata": {
        "colab": {
          "base_uri": "https://localhost:8080/",
          "height": 175
        },
        "id": "Zsyr0dsvja3U",
        "outputId": "244d2b18-1459-4f27-918b-75ee0083bebc"
      },
      "execution_count": 20,
      "outputs": [
        {
          "output_type": "execute_result",
          "data": {
            "text/plain": [
              "      0\n",
              "0  2000\n",
              "1  2001\n",
              "2  2002\n",
              "3  2003"
            ],
            "text/html": [
              "\n",
              "  <div id=\"df-6c654a88-c6b9-41d2-9bc0-b209db81bb65\">\n",
              "    <div class=\"colab-df-container\">\n",
              "      <div>\n",
              "<style scoped>\n",
              "    .dataframe tbody tr th:only-of-type {\n",
              "        vertical-align: middle;\n",
              "    }\n",
              "\n",
              "    .dataframe tbody tr th {\n",
              "        vertical-align: top;\n",
              "    }\n",
              "\n",
              "    .dataframe thead th {\n",
              "        text-align: right;\n",
              "    }\n",
              "</style>\n",
              "<table border=\"1\" class=\"dataframe\">\n",
              "  <thead>\n",
              "    <tr style=\"text-align: right;\">\n",
              "      <th></th>\n",
              "      <th>0</th>\n",
              "    </tr>\n",
              "  </thead>\n",
              "  <tbody>\n",
              "    <tr>\n",
              "      <th>0</th>\n",
              "      <td>2000</td>\n",
              "    </tr>\n",
              "    <tr>\n",
              "      <th>1</th>\n",
              "      <td>2001</td>\n",
              "    </tr>\n",
              "    <tr>\n",
              "      <th>2</th>\n",
              "      <td>2002</td>\n",
              "    </tr>\n",
              "    <tr>\n",
              "      <th>3</th>\n",
              "      <td>2003</td>\n",
              "    </tr>\n",
              "  </tbody>\n",
              "</table>\n",
              "</div>\n",
              "      <button class=\"colab-df-convert\" onclick=\"convertToInteractive('df-6c654a88-c6b9-41d2-9bc0-b209db81bb65')\"\n",
              "              title=\"Convert this dataframe to an interactive table.\"\n",
              "              style=\"display:none;\">\n",
              "        \n",
              "  <svg xmlns=\"http://www.w3.org/2000/svg\" height=\"24px\"viewBox=\"0 0 24 24\"\n",
              "       width=\"24px\">\n",
              "    <path d=\"M0 0h24v24H0V0z\" fill=\"none\"/>\n",
              "    <path d=\"M18.56 5.44l.94 2.06.94-2.06 2.06-.94-2.06-.94-.94-2.06-.94 2.06-2.06.94zm-11 1L8.5 8.5l.94-2.06 2.06-.94-2.06-.94L8.5 2.5l-.94 2.06-2.06.94zm10 10l.94 2.06.94-2.06 2.06-.94-2.06-.94-.94-2.06-.94 2.06-2.06.94z\"/><path d=\"M17.41 7.96l-1.37-1.37c-.4-.4-.92-.59-1.43-.59-.52 0-1.04.2-1.43.59L10.3 9.45l-7.72 7.72c-.78.78-.78 2.05 0 2.83L4 21.41c.39.39.9.59 1.41.59.51 0 1.02-.2 1.41-.59l7.78-7.78 2.81-2.81c.8-.78.8-2.07 0-2.86zM5.41 20L4 18.59l7.72-7.72 1.47 1.35L5.41 20z\"/>\n",
              "  </svg>\n",
              "      </button>\n",
              "      \n",
              "  <style>\n",
              "    .colab-df-container {\n",
              "      display:flex;\n",
              "      flex-wrap:wrap;\n",
              "      gap: 12px;\n",
              "    }\n",
              "\n",
              "    .colab-df-convert {\n",
              "      background-color: #E8F0FE;\n",
              "      border: none;\n",
              "      border-radius: 50%;\n",
              "      cursor: pointer;\n",
              "      display: none;\n",
              "      fill: #1967D2;\n",
              "      height: 32px;\n",
              "      padding: 0 0 0 0;\n",
              "      width: 32px;\n",
              "    }\n",
              "\n",
              "    .colab-df-convert:hover {\n",
              "      background-color: #E2EBFA;\n",
              "      box-shadow: 0px 1px 2px rgba(60, 64, 67, 0.3), 0px 1px 3px 1px rgba(60, 64, 67, 0.15);\n",
              "      fill: #174EA6;\n",
              "    }\n",
              "\n",
              "    [theme=dark] .colab-df-convert {\n",
              "      background-color: #3B4455;\n",
              "      fill: #D2E3FC;\n",
              "    }\n",
              "\n",
              "    [theme=dark] .colab-df-convert:hover {\n",
              "      background-color: #434B5C;\n",
              "      box-shadow: 0px 1px 3px 1px rgba(0, 0, 0, 0.15);\n",
              "      filter: drop-shadow(0px 1px 2px rgba(0, 0, 0, 0.3));\n",
              "      fill: #FFFFFF;\n",
              "    }\n",
              "  </style>\n",
              "\n",
              "      <script>\n",
              "        const buttonEl =\n",
              "          document.querySelector('#df-6c654a88-c6b9-41d2-9bc0-b209db81bb65 button.colab-df-convert');\n",
              "        buttonEl.style.display =\n",
              "          google.colab.kernel.accessAllowed ? 'block' : 'none';\n",
              "\n",
              "        async function convertToInteractive(key) {\n",
              "          const element = document.querySelector('#df-6c654a88-c6b9-41d2-9bc0-b209db81bb65');\n",
              "          const dataTable =\n",
              "            await google.colab.kernel.invokeFunction('convertToInteractive',\n",
              "                                                     [key], {});\n",
              "          if (!dataTable) return;\n",
              "\n",
              "          const docLinkHtml = 'Like what you see? Visit the ' +\n",
              "            '<a target=\"_blank\" href=https://colab.research.google.com/notebooks/data_table.ipynb>data table notebook</a>'\n",
              "            + ' to learn more about interactive tables.';\n",
              "          element.innerHTML = '';\n",
              "          dataTable['output_type'] = 'display_data';\n",
              "          await google.colab.output.renderOutput(dataTable, element);\n",
              "          const docLink = document.createElement('div');\n",
              "          docLink.innerHTML = docLinkHtml;\n",
              "          element.appendChild(docLink);\n",
              "        }\n",
              "      </script>\n",
              "    </div>\n",
              "  </div>\n",
              "  "
            ]
          },
          "metadata": {},
          "execution_count": 20
        }
      ]
    },
    {
      "cell_type": "code",
      "source": [
        "import numpy as np\n",
        "np_array = np.array([2000,2001,2002,2003])\n",
        "dict_ndarray = {'year':np_array}\n",
        "df_ndarray = pd.DataFrame(dict_ndarray)\n",
        "df_ndarray"
      ],
      "metadata": {
        "colab": {
          "base_uri": "https://localhost:8080/",
          "height": 175
        },
        "id": "o3XAj6Dyjs8e",
        "outputId": "258e023f-a237-4cec-f4a9-8e77b8176689"
      },
      "execution_count": 21,
      "outputs": [
        {
          "output_type": "execute_result",
          "data": {
            "text/plain": [
              "   year\n",
              "0  2000\n",
              "1  2001\n",
              "2  2002\n",
              "3  2003"
            ],
            "text/html": [
              "\n",
              "  <div id=\"df-0a37a6ac-878e-4992-b3a3-60a7ec29de46\">\n",
              "    <div class=\"colab-df-container\">\n",
              "      <div>\n",
              "<style scoped>\n",
              "    .dataframe tbody tr th:only-of-type {\n",
              "        vertical-align: middle;\n",
              "    }\n",
              "\n",
              "    .dataframe tbody tr th {\n",
              "        vertical-align: top;\n",
              "    }\n",
              "\n",
              "    .dataframe thead th {\n",
              "        text-align: right;\n",
              "    }\n",
              "</style>\n",
              "<table border=\"1\" class=\"dataframe\">\n",
              "  <thead>\n",
              "    <tr style=\"text-align: right;\">\n",
              "      <th></th>\n",
              "      <th>year</th>\n",
              "    </tr>\n",
              "  </thead>\n",
              "  <tbody>\n",
              "    <tr>\n",
              "      <th>0</th>\n",
              "      <td>2000</td>\n",
              "    </tr>\n",
              "    <tr>\n",
              "      <th>1</th>\n",
              "      <td>2001</td>\n",
              "    </tr>\n",
              "    <tr>\n",
              "      <th>2</th>\n",
              "      <td>2002</td>\n",
              "    </tr>\n",
              "    <tr>\n",
              "      <th>3</th>\n",
              "      <td>2003</td>\n",
              "    </tr>\n",
              "  </tbody>\n",
              "</table>\n",
              "</div>\n",
              "      <button class=\"colab-df-convert\" onclick=\"convertToInteractive('df-0a37a6ac-878e-4992-b3a3-60a7ec29de46')\"\n",
              "              title=\"Convert this dataframe to an interactive table.\"\n",
              "              style=\"display:none;\">\n",
              "        \n",
              "  <svg xmlns=\"http://www.w3.org/2000/svg\" height=\"24px\"viewBox=\"0 0 24 24\"\n",
              "       width=\"24px\">\n",
              "    <path d=\"M0 0h24v24H0V0z\" fill=\"none\"/>\n",
              "    <path d=\"M18.56 5.44l.94 2.06.94-2.06 2.06-.94-2.06-.94-.94-2.06-.94 2.06-2.06.94zm-11 1L8.5 8.5l.94-2.06 2.06-.94-2.06-.94L8.5 2.5l-.94 2.06-2.06.94zm10 10l.94 2.06.94-2.06 2.06-.94-2.06-.94-.94-2.06-.94 2.06-2.06.94z\"/><path d=\"M17.41 7.96l-1.37-1.37c-.4-.4-.92-.59-1.43-.59-.52 0-1.04.2-1.43.59L10.3 9.45l-7.72 7.72c-.78.78-.78 2.05 0 2.83L4 21.41c.39.39.9.59 1.41.59.51 0 1.02-.2 1.41-.59l7.78-7.78 2.81-2.81c.8-.78.8-2.07 0-2.86zM5.41 20L4 18.59l7.72-7.72 1.47 1.35L5.41 20z\"/>\n",
              "  </svg>\n",
              "      </button>\n",
              "      \n",
              "  <style>\n",
              "    .colab-df-container {\n",
              "      display:flex;\n",
              "      flex-wrap:wrap;\n",
              "      gap: 12px;\n",
              "    }\n",
              "\n",
              "    .colab-df-convert {\n",
              "      background-color: #E8F0FE;\n",
              "      border: none;\n",
              "      border-radius: 50%;\n",
              "      cursor: pointer;\n",
              "      display: none;\n",
              "      fill: #1967D2;\n",
              "      height: 32px;\n",
              "      padding: 0 0 0 0;\n",
              "      width: 32px;\n",
              "    }\n",
              "\n",
              "    .colab-df-convert:hover {\n",
              "      background-color: #E2EBFA;\n",
              "      box-shadow: 0px 1px 2px rgba(60, 64, 67, 0.3), 0px 1px 3px 1px rgba(60, 64, 67, 0.15);\n",
              "      fill: #174EA6;\n",
              "    }\n",
              "\n",
              "    [theme=dark] .colab-df-convert {\n",
              "      background-color: #3B4455;\n",
              "      fill: #D2E3FC;\n",
              "    }\n",
              "\n",
              "    [theme=dark] .colab-df-convert:hover {\n",
              "      background-color: #434B5C;\n",
              "      box-shadow: 0px 1px 3px 1px rgba(0, 0, 0, 0.15);\n",
              "      filter: drop-shadow(0px 1px 2px rgba(0, 0, 0, 0.3));\n",
              "      fill: #FFFFFF;\n",
              "    }\n",
              "  </style>\n",
              "\n",
              "      <script>\n",
              "        const buttonEl =\n",
              "          document.querySelector('#df-0a37a6ac-878e-4992-b3a3-60a7ec29de46 button.colab-df-convert');\n",
              "        buttonEl.style.display =\n",
              "          google.colab.kernel.accessAllowed ? 'block' : 'none';\n",
              "\n",
              "        async function convertToInteractive(key) {\n",
              "          const element = document.querySelector('#df-0a37a6ac-878e-4992-b3a3-60a7ec29de46');\n",
              "          const dataTable =\n",
              "            await google.colab.kernel.invokeFunction('convertToInteractive',\n",
              "                                                     [key], {});\n",
              "          if (!dataTable) return;\n",
              "\n",
              "          const docLinkHtml = 'Like what you see? Visit the ' +\n",
              "            '<a target=\"_blank\" href=https://colab.research.google.com/notebooks/data_table.ipynb>data table notebook</a>'\n",
              "            + ' to learn more about interactive tables.';\n",
              "          element.innerHTML = '';\n",
              "          dataTable['output_type'] = 'display_data';\n",
              "          await google.colab.output.renderOutput(dataTable, element);\n",
              "          const docLink = document.createElement('div');\n",
              "          docLink.innerHTML = docLinkHtml;\n",
              "          element.appendChild(docLink);\n",
              "        }\n",
              "      </script>\n",
              "    </div>\n",
              "  </div>\n",
              "  "
            ]
          },
          "metadata": {},
          "execution_count": 21
        }
      ]
    },
    {
      "cell_type": "markdown",
      "source": [
        "### Create dataframe from dataframe"
      ],
      "metadata": {
        "id": "IaWUoQ_xoHfz"
      }
    },
    {
      "cell_type": "code",
      "source": [
        "df_from_df = pd.DataFrame(df_data_series)\n",
        "df_from_df"
      ],
      "metadata": {
        "colab": {
          "base_uri": "https://localhost:8080/",
          "height": 206
        },
        "id": "gXVblAj3oNOA",
        "outputId": "3bb4e25c-e767-44a0-94e4-dd435188995b"
      },
      "execution_count": 23,
      "outputs": [
        {
          "output_type": "execute_result",
          "data": {
            "text/plain": [
              "     No of participating countries  Host cities\n",
              "2012                        London          205\n",
              "2008                       Beijing          204\n",
              "2004                        Athens          201\n",
              "2000                        Sydney          200\n",
              "1996                       Atlanta          197"
            ],
            "text/html": [
              "\n",
              "  <div id=\"df-280d0f15-dda2-43a9-bb65-d262a59265b7\">\n",
              "    <div class=\"colab-df-container\">\n",
              "      <div>\n",
              "<style scoped>\n",
              "    .dataframe tbody tr th:only-of-type {\n",
              "        vertical-align: middle;\n",
              "    }\n",
              "\n",
              "    .dataframe tbody tr th {\n",
              "        vertical-align: top;\n",
              "    }\n",
              "\n",
              "    .dataframe thead th {\n",
              "        text-align: right;\n",
              "    }\n",
              "</style>\n",
              "<table border=\"1\" class=\"dataframe\">\n",
              "  <thead>\n",
              "    <tr style=\"text-align: right;\">\n",
              "      <th></th>\n",
              "      <th>No of participating countries</th>\n",
              "      <th>Host cities</th>\n",
              "    </tr>\n",
              "  </thead>\n",
              "  <tbody>\n",
              "    <tr>\n",
              "      <th>2012</th>\n",
              "      <td>London</td>\n",
              "      <td>205</td>\n",
              "    </tr>\n",
              "    <tr>\n",
              "      <th>2008</th>\n",
              "      <td>Beijing</td>\n",
              "      <td>204</td>\n",
              "    </tr>\n",
              "    <tr>\n",
              "      <th>2004</th>\n",
              "      <td>Athens</td>\n",
              "      <td>201</td>\n",
              "    </tr>\n",
              "    <tr>\n",
              "      <th>2000</th>\n",
              "      <td>Sydney</td>\n",
              "      <td>200</td>\n",
              "    </tr>\n",
              "    <tr>\n",
              "      <th>1996</th>\n",
              "      <td>Atlanta</td>\n",
              "      <td>197</td>\n",
              "    </tr>\n",
              "  </tbody>\n",
              "</table>\n",
              "</div>\n",
              "      <button class=\"colab-df-convert\" onclick=\"convertToInteractive('df-280d0f15-dda2-43a9-bb65-d262a59265b7')\"\n",
              "              title=\"Convert this dataframe to an interactive table.\"\n",
              "              style=\"display:none;\">\n",
              "        \n",
              "  <svg xmlns=\"http://www.w3.org/2000/svg\" height=\"24px\"viewBox=\"0 0 24 24\"\n",
              "       width=\"24px\">\n",
              "    <path d=\"M0 0h24v24H0V0z\" fill=\"none\"/>\n",
              "    <path d=\"M18.56 5.44l.94 2.06.94-2.06 2.06-.94-2.06-.94-.94-2.06-.94 2.06-2.06.94zm-11 1L8.5 8.5l.94-2.06 2.06-.94-2.06-.94L8.5 2.5l-.94 2.06-2.06.94zm10 10l.94 2.06.94-2.06 2.06-.94-2.06-.94-.94-2.06-.94 2.06-2.06.94z\"/><path d=\"M17.41 7.96l-1.37-1.37c-.4-.4-.92-.59-1.43-.59-.52 0-1.04.2-1.43.59L10.3 9.45l-7.72 7.72c-.78.78-.78 2.05 0 2.83L4 21.41c.39.39.9.59 1.41.59.51 0 1.02-.2 1.41-.59l7.78-7.78 2.81-2.81c.8-.78.8-2.07 0-2.86zM5.41 20L4 18.59l7.72-7.72 1.47 1.35L5.41 20z\"/>\n",
              "  </svg>\n",
              "      </button>\n",
              "      \n",
              "  <style>\n",
              "    .colab-df-container {\n",
              "      display:flex;\n",
              "      flex-wrap:wrap;\n",
              "      gap: 12px;\n",
              "    }\n",
              "\n",
              "    .colab-df-convert {\n",
              "      background-color: #E8F0FE;\n",
              "      border: none;\n",
              "      border-radius: 50%;\n",
              "      cursor: pointer;\n",
              "      display: none;\n",
              "      fill: #1967D2;\n",
              "      height: 32px;\n",
              "      padding: 0 0 0 0;\n",
              "      width: 32px;\n",
              "    }\n",
              "\n",
              "    .colab-df-convert:hover {\n",
              "      background-color: #E2EBFA;\n",
              "      box-shadow: 0px 1px 2px rgba(60, 64, 67, 0.3), 0px 1px 3px 1px rgba(60, 64, 67, 0.15);\n",
              "      fill: #174EA6;\n",
              "    }\n",
              "\n",
              "    [theme=dark] .colab-df-convert {\n",
              "      background-color: #3B4455;\n",
              "      fill: #D2E3FC;\n",
              "    }\n",
              "\n",
              "    [theme=dark] .colab-df-convert:hover {\n",
              "      background-color: #434B5C;\n",
              "      box-shadow: 0px 1px 3px 1px rgba(0, 0, 0, 0.15);\n",
              "      filter: drop-shadow(0px 1px 2px rgba(0, 0, 0, 0.3));\n",
              "      fill: #FFFFFF;\n",
              "    }\n",
              "  </style>\n",
              "\n",
              "      <script>\n",
              "        const buttonEl =\n",
              "          document.querySelector('#df-280d0f15-dda2-43a9-bb65-d262a59265b7 button.colab-df-convert');\n",
              "        buttonEl.style.display =\n",
              "          google.colab.kernel.accessAllowed ? 'block' : 'none';\n",
              "\n",
              "        async function convertToInteractive(key) {\n",
              "          const element = document.querySelector('#df-280d0f15-dda2-43a9-bb65-d262a59265b7');\n",
              "          const dataTable =\n",
              "            await google.colab.kernel.invokeFunction('convertToInteractive',\n",
              "                                                     [key], {});\n",
              "          if (!dataTable) return;\n",
              "\n",
              "          const docLinkHtml = 'Like what you see? Visit the ' +\n",
              "            '<a target=\"_blank\" href=https://colab.research.google.com/notebooks/data_table.ipynb>data table notebook</a>'\n",
              "            + ' to learn more about interactive tables.';\n",
              "          element.innerHTML = '';\n",
              "          dataTable['output_type'] = 'display_data';\n",
              "          await google.colab.output.renderOutput(dataTable, element);\n",
              "          const docLink = document.createElement('div');\n",
              "          docLink.innerHTML = docLinkHtml;\n",
              "          element.appendChild(docLink);\n",
              "        }\n",
              "      </script>\n",
              "    </div>\n",
              "  </div>\n",
              "  "
            ]
          },
          "metadata": {},
          "execution_count": 23
        }
      ]
    }
  ]
}